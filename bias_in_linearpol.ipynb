{
 "cells": [
  {
   "cell_type": "markdown",
   "id": "d125695b",
   "metadata": {},
   "source": [
    "PURPOSE: Illustrate the concept of bias and variance for quadratic estimators. Case of polarization intensity.\n",
    "\n",
    "Notation: variables with index 0 correspond to true values (P0).\n",
    "\n",
    "@author: jalberto"
   ]
  },
  {
   "cell_type": "code",
   "execution_count": 31,
   "id": "efe89cc7",
   "metadata": {},
   "outputs": [],
   "source": [
    "import numpy as np\n",
    "import matplotlib.pyplot as plt\n",
    "import sys"
   ]
  },
  {
   "cell_type": "code",
   "execution_count": 32,
   "id": "9250374e",
   "metadata": {},
   "outputs": [],
   "source": [
    "# WK estimator\n",
    "def p_wk(P, sigma):\n",
    "    arg = P**2 - sigma**2\n",
    "    Pwk = np.zeros(len(P))\n",
    "    cut = arg>0\n",
    "    Pwk[cut] = np.sqrt(arg[cut])\n",
    "    #Pwk = np.where(arg>0, np.sqrt(arg), 0)\n",
    "    return Pwk\n",
    "\n",
    "# MAS estimator\n",
    "def p_mas(P, sigma):\n",
    "    sigchi = sigma/(2*P) \n",
    "    Pmas   = P * ( 1 - 2*sigchi**2 * (1-np.exp(-P**2/sigma**2)))\n",
    "    return Pmas"
   ]
  },
  {
   "cell_type": "markdown",
   "id": "69e57321",
   "metadata": {},
   "source": [
    "FIRST Example: simulating a measurement in which the intrisic polarization is zero."
   ]
  },
  {
   "cell_type": "code",
   "execution_count": 33,
   "id": "b9da2d04",
   "metadata": {},
   "outputs": [
    {
     "name": "stdout",
     "output_type": "stream",
     "text": [
      "CASE 1. Intrinsic P0 =  0.0\n",
      "> Mean value of Q =  0.0046412177851683405\n",
      "> Standard deviation of Q   =  1.0023405924210844\n",
      "> Mean value of U =  0.002443932098308113\n",
      "> Standard deviation of U   =  1.0034432194166152\n",
      "> Mean value of P =  1.2576079086137197\n",
      "> Standard deviation of P   =  0.6557704016704993\n",
      "Biased-corrected estimators:\n",
      "> Mean value of PWK =  0.7673062032381426\n",
      "> Mean value of Pmas=  0.9929383385945802\n",
      "----------\n"
     ]
    }
   ],
   "source": [
    "nsim = 50000\n",
    "    \n",
    "# CASE 1. Intrinsic polarization is zero Q0=U0=0\n",
    "Q0    = 0.0\n",
    "U0    = 0.0\n",
    "P0    = np.sqrt(Q0**2 + U0**2)\n",
    "sigma = 1.0  # error in Q or U measuremnt.\n",
    "\n",
    "# Simulating Measurements\n",
    "n = nsim # number of measurements.    \n",
    "Q = Q0 + np.random.randn(n)*sigma\n",
    "U = U0 + np.random.randn(n)*sigma\n",
    "\n",
    "# Measured value of P (classical method, biased):\n",
    "P = np.sqrt(Q**2 + U**2)\n",
    "errP = sigma\n",
    "\n",
    "# Compute some statistics:\n",
    "print(\"CASE 1. Intrinsic P0 = \",P0)\n",
    "print(\"> Mean value of Q = \",np.mean(Q))\n",
    "print(\"> Standard deviation of Q   = \",np.std(Q))\n",
    "print(\"> Mean value of U = \",np.mean(U))\n",
    "print(\"> Standard deviation of U   = \",np.std(U))\n",
    "    \n",
    "print(\"> Mean value of P = \",np.mean(P))\n",
    "print(\"> Standard deviation of P   = \",np.std(P))\n",
    "\n",
    "print('Biased-corrected estimators:')\n",
    "PWK  = p_wk(P,sigma)\n",
    "print(\"> Mean value of PWK = \",np.mean(PWK))\n",
    "Pmas = p_mas(P,sigma)\n",
    "print(\"> Mean value of Pmas= \",np.mean(Pmas))\n",
    "print(\"----------\")"
   ]
  },
  {
   "cell_type": "markdown",
   "id": "e0ce9659",
   "metadata": {},
   "source": [
    "The resulting P is biased. The two considered estimators partially correct for that bias.\n",
    "The posterior (distribution of P values) is given by a Rice function:"
   ]
  },
  {
   "cell_type": "code",
   "execution_count": 34,
   "id": "32b89abf",
   "metadata": {},
   "outputs": [
    {
     "data": {
      "text/plain": [
       "(array([8.070e+02, 2.090e+03, 3.251e+03, 4.093e+03, 4.743e+03, 4.890e+03,\n",
       "        5.105e+03, 4.775e+03, 4.362e+03, 3.795e+03, 3.098e+03, 2.533e+03,\n",
       "        1.919e+03, 1.482e+03, 1.034e+03, 7.260e+02, 4.770e+02, 3.320e+02,\n",
       "        2.110e+02, 1.070e+02, 7.400e+01, 3.600e+01, 2.600e+01, 1.400e+01,\n",
       "        1.200e+01, 4.000e+00, 3.000e+00, 0.000e+00, 0.000e+00, 1.000e+00]),\n",
       " array([0.00701988, 0.17528405, 0.34354823, 0.51181241, 0.68007659,\n",
       "        0.84834077, 1.01660495, 1.18486913, 1.35313331, 1.52139749,\n",
       "        1.68966167, 1.85792585, 2.02619002, 2.1944542 , 2.36271838,\n",
       "        2.53098256, 2.69924674, 2.86751092, 3.0357751 , 3.20403928,\n",
       "        3.37230346, 3.54056764, 3.70883181, 3.87709599, 4.04536017,\n",
       "        4.21362435, 4.38188853, 4.55015271, 4.71841689, 4.88668107,\n",
       "        5.05494525]),\n",
       " <BarContainer object of 30 artists>)"
      ]
     },
     "execution_count": 34,
     "metadata": {},
     "output_type": "execute_result"
    },
    {
     "data": {
      "image/png": "[encoded data removed]",
      "text/plain": [
       "<Figure size 432x288 with 1 Axes>"
      ]
     },
     "metadata": {
      "needs_background": "light"
     },
     "output_type": "display_data"
    }
   ],
   "source": [
    "plt.hist(P,bins=30)"
   ]
  },
  {
   "cell_type": "markdown",
   "id": "9a9e011e",
   "metadata": {},
   "source": [
    "SECOND Example: simulating a measurement in which the intrisic polarization non zero, but small compared to the typical error."
   ]
  },
  {
   "cell_type": "code",
   "execution_count": 35,
   "id": "78c9d36c",
   "metadata": {},
   "outputs": [
    {
     "name": "stdout",
     "output_type": "stream",
     "text": [
      "CASE 2. Intrinsic P0 =  1.0\n",
      "> Mean value of Q =  0.9943338286884176\n",
      "> Standard deviation of Q   =  1.000100607426217\n",
      "> Mean value of U =  0.0002177899955499722\n",
      "> Standard deviation of U   =  0.9924942427227619\n",
      "> Mean value of P =  1.5424965277608766\n",
      "> Standard deviation of P   =  0.7711357331653136\n",
      "Biased-corrected estimators:\n",
      "> Mean value of PWK =  1.1100896366356665\n",
      "> Mean value of Pmas=  1.2852075322563667\n",
      "----------\n"
     ]
    }
   ],
   "source": [
    "Q0    = 1.0\n",
    "U0    = 0.0\n",
    "P0    = np.sqrt(Q0**2 + U0**2)\n",
    "sigma = 1.0  # error in Q or U measuremnt.\n",
    "    \n",
    "# simulating Measurements\n",
    "n     = nsim  # number of measurements.    \n",
    "Q = Q0 + np.random.randn(n)*sigma\n",
    "U = U0 + np.random.randn(n)*sigma\n",
    "\n",
    "# Measured value of P (clasical method):\n",
    "P = np.sqrt(Q**2 + U**2)\n",
    "errP = sigma\n",
    "\n",
    "# Compute some statistics:\n",
    "print(\"CASE 2. Intrinsic P0 = \",P0)\n",
    "print(\"> Mean value of Q = \",np.mean(Q))\n",
    "print(\"> Standard deviation of Q   = \",np.std(Q))\n",
    "print(\"> Mean value of U = \",np.mean(U))\n",
    "print(\"> Standard deviation of U   = \",np.std(U))\n",
    "    \n",
    "print(\"> Mean value of P = \",np.mean(P))\n",
    "print(\"> Standard deviation of P   = \",np.std(P))\n",
    "\n",
    "print('Biased-corrected estimators:')\n",
    "PWK = p_wk(P,sigma)\n",
    "print(\"> Mean value of PWK = \",np.mean(PWK))\n",
    "Pmas = p_mas(P,sigma)\n",
    "print(\"> Mean value of Pmas= \",np.mean(Pmas))\n",
    "print(\"----------\")"
   ]
  },
  {
   "cell_type": "markdown",
   "id": "fdea8353",
   "metadata": {},
   "source": [
    "THIRD Example: simulating a measurement in which the intrisic polarization non zero, with an amplitude around 3-4 sigma levels (low signal to noise)"
   ]
  },
  {
   "cell_type": "code",
   "execution_count": 36,
   "id": "6f5e1b99",
   "metadata": {},
   "outputs": [
    {
     "name": "stdout",
     "output_type": "stream",
     "text": [
      "CASE 3. Intrinsic P0 =  5.0\n",
      "> Mean value of Q =  2.998223613620086\n",
      "> Standard deviation of Q   =  0.9968073957620236\n",
      "> Mean value of U =  4.002467665533887\n",
      "> Standard deviation of U   =  1.0004559971127018\n",
      "> Mean value of P =  5.101419173480837\n",
      "> Standard deviation of P   =  0.9895210223942167\n",
      "Biased-corrected estimators:\n",
      "> Mean value of PWK =  4.997891854341078\n",
      "> Mean value of Pmas=  4.999230577311068\n"
     ]
    }
   ],
   "source": [
    "# CASE 3. Realistic case\n",
    "Q0    = 3.0\n",
    "U0    = 4.0\n",
    "P0    = np.sqrt(Q0**2 + U0**2)\n",
    "sigma = 1.0  # error in Q or U measuremnt.\n",
    "    \n",
    "# Measurements\n",
    "n = nsim  # number of measurements.    \n",
    "Q = Q0 + np.random.randn(n)*sigma\n",
    "U = U0 + np.random.randn(n)*sigma\n",
    "    \n",
    "# Measured value of P (clasical method):\n",
    "P = np.sqrt(Q**2 + U**2)\n",
    "errP = sigma # quadratic.\n",
    "\n",
    "# Compute some statistics:\n",
    "print(\"CASE 3. Intrinsic P0 = \",P0)\n",
    "print(\"> Mean value of Q = \",np.mean(Q))\n",
    "print(\"> Standard deviation of Q   = \",np.std(Q))\n",
    "print(\"> Mean value of U = \",np.mean(U))\n",
    "print(\"> Standard deviation of U   = \",np.std(U))\n",
    "    \n",
    "print(\"> Mean value of P = \",np.mean(P))\n",
    "print(\"> Standard deviation of P   = \",np.std(P))\n",
    "\n",
    "print('Biased-corrected estimators:')\n",
    "PWK = p_wk(P,sigma)\n",
    "print(\"> Mean value of PWK = \",np.mean(PWK))\n",
    "Pmas = p_mas(P,sigma)\n",
    "print(\"> Mean value of Pmas= \",np.mean(Pmas))"
   ]
  },
  {
   "cell_type": "markdown",
   "id": "7442d9ca",
   "metadata": {},
   "source": [
    "In this case, the bias is well corrected."
   ]
  },
  {
   "cell_type": "markdown",
   "id": "eb544640",
   "metadata": {},
   "source": []
  }
 ],
 "metadata": {
  "kernelspec": {
   "display_name": "base",
   "language": "python",
   "name": "python3"
  },
  "language_info": {
   "codemirror_mode": {
    "name": "ipython",
    "version": 3
   },
   "file_extension": ".py",
   "mimetype": "text/x-python",
   "name": "python",
   "nbconvert_exporter": "python",
   "pygments_lexer": "ipython3",
   "version": "3.6.13"
  }
 },
 "nbformat": 4,
 "nbformat_minor": 5
}
