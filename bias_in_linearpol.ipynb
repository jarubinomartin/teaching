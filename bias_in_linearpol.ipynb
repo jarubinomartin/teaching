{
 "cells": [
  {
   "cell_type": "markdown",
   "id": "d125695b",
   "metadata": {},
   "source": [
    "PURPOSE: Illustrate the concept of bias and variance for quadratic estimators. Case of polarization intensity.\n",
    "\n",
    "Notation: variables with index 0 correspond to true values (P0).\n",
    "\n",
    "@author: jalberto"
   ]
  },
  {
   "cell_type": "code",
   "execution_count": 1,
   "id": "efe89cc7",
   "metadata": {},
   "outputs": [],
   "source": [
    "import numpy as np\n",
    "import matplotlib.pyplot as plt"
   ]
  },
  {
   "cell_type": "code",
   "execution_count": 4,
   "id": "9250374e",
   "metadata": {},
   "outputs": [],
   "source": [
    "# WK estimator\n",
    "def p_wk(P, sigma):\n",
    "    arg = P**2 - sigma**2\n",
    "    Pwk = np.zeros(len(P))\n",
    "    cut = arg>0\n",
    "    Pwk[cut] = np.sqrt(arg[cut])\n",
    "    #Pwk = np.where(arg>0, np.sqrt(arg), 0)\n",
    "    return Pwk\n",
    "\n",
    "# MAS estimator\n",
    "def p_mas(P, sigma):\n",
    "    sigchi = sigma/(2*P) \n",
    "    Pmas   = P * ( 1 - 2*sigchi**2 * (1-np.exp(-P**2/sigma**2)))\n",
    "    return Pmas"
   ]
  },
  {
   "cell_type": "markdown",
   "id": "69e57321",
   "metadata": {},
   "source": [
    "FIRST Example: simulating a measurement in which the intrisic polarization is zero."
   ]
  },
  {
   "cell_type": "code",
   "execution_count": 7,
   "id": "b9da2d04",
   "metadata": {},
   "outputs": [
    {
     "name": "stdout",
     "output_type": "stream",
     "text": [
      "CASE 1. Intrinsic P0 =  0.0\n",
      "> Mean value of Q =  0.012043676861058889\n",
      "> Standard deviation of Q   =  0.9984379711584463\n",
      "> Mean value of U =  -0.009036792059617346\n",
      "> Standard deviation of U   =  0.9984533218930253\n",
      "> Mean value of P =  1.2508843081333234\n",
      "> Standard deviation of P   =  0.6552118586221489\n",
      "Biased-corrected estimators:\n",
      "> Mean value of PWK =  0.7572001126292687\n",
      "> Mean value of Pmas=  0.9862596656379528\n",
      "----------\n"
     ]
    }
   ],
   "source": [
    "nsim = 50000\n",
    "    \n",
    "# CASE 1. Intrinsic polarization is zero Q0=U0=0\n",
    "Q0    = 0.0\n",
    "U0    = 0.0\n",
    "P0    = np.sqrt(Q0**2 + U0**2)\n",
    "sigma = 1.0  # error in Q or U measuremnt.\n",
    "\n",
    "# Simulating Measurements\n",
    "n = nsim # number of measurements.    \n",
    "Q = Q0 + np.random.randn(n)*sigma\n",
    "U = U0 + np.random.randn(n)*sigma\n",
    "\n",
    "# Measured value of P (classical method, biased):\n",
    "P = np.sqrt(Q**2 + U**2)\n",
    "errP = sigma\n",
    "\n",
    "# Compute some statistics:\n",
    "print(\"CASE 1. Intrinsic P0 = \",P0)\n",
    "print(\"> Mean value of Q = \",np.mean(Q))\n",
    "print(\"> Standard deviation of Q   = \",np.std(Q))\n",
    "print(\"> Mean value of U = \",np.mean(U))\n",
    "print(\"> Standard deviation of U   = \",np.std(U))\n",
    "    \n",
    "print(\"> Mean value of P = \",np.mean(P))\n",
    "print(\"> Standard deviation of P   = \",np.std(P))\n",
    "\n",
    "print('Biased-corrected estimators:')\n",
    "PWK  = p_wk(P,sigma)\n",
    "print(\"> Mean value of PWK = \",np.mean(PWK))\n",
    "Pmas = p_mas(P,sigma)\n",
    "print(\"> Mean value of Pmas= \",np.mean(Pmas))\n",
    "print(\"----------\")"
   ]
  },
  {
   "cell_type": "markdown",
   "id": "e0ce9659",
   "metadata": {},
   "source": [
    "The resulting P is biased. The two considered estimators partially correct for that bias.\n",
    "The posterior (distribution of P values) is given by a Rice function:"
   ]
  },
  {
   "cell_type": "code",
   "execution_count": 6,
   "id": "32b89abf",
   "metadata": {},
   "outputs": [
    {
     "data": {
      "text/plain": [
       "(array([7.250e+02, 2.032e+03, 3.255e+03, 4.302e+03, 4.736e+03, 5.038e+03,\n",
       "        5.168e+03, 4.813e+03, 4.268e+03, 3.669e+03, 3.095e+03, 2.473e+03,\n",
       "        1.950e+03, 1.394e+03, 1.069e+03, 6.840e+02, 4.930e+02, 3.240e+02,\n",
       "        2.080e+02, 1.290e+02, 7.900e+01, 4.200e+01, 2.000e+01, 1.600e+01,\n",
       "        1.000e+01, 4.000e+00, 1.000e+00, 1.000e+00, 1.000e+00, 1.000e+00]),\n",
       " array([4.02047658e-03, 1.72533188e-01, 3.41045900e-01, 5.09558611e-01,\n",
       "        6.78071323e-01, 8.46584035e-01, 1.01509675e+00, 1.18360946e+00,\n",
       "        1.35212217e+00, 1.52063488e+00, 1.68914759e+00, 1.85766030e+00,\n",
       "        2.02617302e+00, 2.19468573e+00, 2.36319844e+00, 2.53171115e+00,\n",
       "        2.70022386e+00, 2.86873657e+00, 3.03724929e+00, 3.20576200e+00,\n",
       "        3.37427471e+00, 3.54278742e+00, 3.71130013e+00, 3.87981284e+00,\n",
       "        4.04832556e+00, 4.21683827e+00, 4.38535098e+00, 4.55386369e+00,\n",
       "        4.72237640e+00, 4.89088911e+00, 5.05940183e+00]),\n",
       " <BarContainer object of 30 artists>)"
      ]
     },
     "execution_count": 6,
     "metadata": {},
     "output_type": "execute_result"
    },
    {
     "data": {
      "image/png": "[encoded data removed]",
      "text/plain": [
       "<Figure size 432x288 with 1 Axes>"
      ]
     },
     "metadata": {
      "needs_background": "light"
     },
     "output_type": "display_data"
    }
   ],
   "source": [
    "plt.hist(P,bins=30)"
   ]
  },
  {
   "cell_type": "markdown",
   "id": "9a9e011e",
   "metadata": {},
   "source": [
    "SECOND Example: simulating a measurement in which the intrisic polarization non zero, but small compared to the typical error."
   ]
  },
  {
   "cell_type": "code",
   "execution_count": null,
   "id": "78c9d36c",
   "metadata": {},
   "outputs": [],
   "source": [
    "Q0    = 1.0\n",
    "U0    = 0.0\n",
    "P0    = np.sqrt(Q0**2 + U0**2)\n",
    "sigma = 1.0  # error in Q or U measuremnt.\n",
    "    \n",
    "# simulating Measurements\n",
    "n     = nsim  # number of measurements.    \n",
    "Q = Q0 + np.random.randn(n)*sigma\n",
    "U = U0 + np.random.randn(n)*sigma\n",
    "\n",
    "# Measured value of P (clasical method):\n",
    "P = np.sqrt(Q**2 + U**2)\n",
    "errP = sigma\n",
    "\n",
    "# Compute some statistics:\n",
    "print(\"CASE 2. Intrinsic P0 = \",P0)\n",
    "print(\"> Mean value of Q = \",np.mean(Q))\n",
    "print(\"> Standard deviation of Q   = \",np.std(Q))\n",
    "print(\"> Mean value of U = \",np.mean(U))\n",
    "print(\"> Standard deviation of U   = \",np.std(U))\n",
    "    \n",
    "print(\"> Mean value of P = \",np.mean(P))\n",
    "print(\"> Standard deviation of P   = \",np.std(P))\n",
    "PWK = p_wk(P,sigma)\n",
    "print(\"> Mean value of PWK = \",np.mean(PWK))\n",
    "Pmas = p_mas(P,sigma)\n",
    "print(\"> Mean value of Pmas= \",np.mean(Pmas))\n",
    "print(\"----------\")"
   ]
  },
  {
   "cell_type": "code",
   "execution_count": null,
   "id": "6f5e1b99",
   "metadata": {},
   "outputs": [],
   "source": []
  }
 ],
 "metadata": {
  "kernelspec": {
   "display_name": "base",
   "language": "python",
   "name": "python3"
  },
  "language_info": {
   "codemirror_mode": {
    "name": "ipython",
    "version": 3
   },
   "file_extension": ".py",
   "mimetype": "text/x-python",
   "name": "python",
   "nbconvert_exporter": "python",
   "pygments_lexer": "ipython3",
   "version": "3.6.13"
  }
 },
 "nbformat": 4,
 "nbformat_minor": 5
}
