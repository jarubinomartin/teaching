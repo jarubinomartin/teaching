{
 "cells": [
  {
   "cell_type": "markdown",
   "id": "d125695b",
   "metadata": {},
   "source": [
    "# Bias in the determination of linear polarization.\n",
    "\n",
    "**PURPOSE:** Illustrate the concept of bias and variance for quadratic estimators. Case of polarization intensity.\n",
    "\n",
    "**Notation:** variables with index 0 correspond to true values (P0).\n",
    "\n",
    "*@author: jalberto*"
   ]
  },
  {
   "cell_type": "code",
   "execution_count": 37,
   "id": "efe89cc7",
   "metadata": {},
   "outputs": [],
   "source": [
    "import numpy as np\n",
    "import matplotlib.pyplot as plt\n",
    "import sys"
   ]
  },
  {
   "cell_type": "code",
   "execution_count": 38,
   "id": "9250374e",
   "metadata": {},
   "outputs": [],
   "source": [
    "# WK estimator\n",
    "def p_wk(P, sigma):\n",
    "    arg = P**2 - sigma**2\n",
    "    Pwk = np.zeros(len(P))\n",
    "    cut = arg>0\n",
    "    Pwk[cut] = np.sqrt(arg[cut])\n",
    "    #Pwk = np.where(arg>0, np.sqrt(arg), 0)\n",
    "    return Pwk\n",
    "\n",
    "# MAS estimator\n",
    "def p_mas(P, sigma):\n",
    "    sigchi = sigma/(2*P) \n",
    "    Pmas   = P * ( 1 - 2*sigchi**2 * (1-np.exp(-P**2/sigma**2)))\n",
    "    return Pmas"
   ]
  },
  {
   "cell_type": "markdown",
   "id": "69e57321",
   "metadata": {},
   "source": [
    "*FIRST example:* simulating a measurement in which the intrisic polarization is zero."
   ]
  },
  {
   "cell_type": "code",
   "execution_count": 39,
   "id": "b9da2d04",
   "metadata": {},
   "outputs": [
    {
     "name": "stdout",
     "output_type": "stream",
     "text": [
      "CASE 1. Intrinsic P0 =  0.0\n",
      "> Mean value of Q =  -0.006020862578152253\n",
      "> Standard deviation of Q   =  1.003251790837978\n",
      "> Mean value of U =  0.0028592998924258173\n",
      "> Standard deviation of U   =  0.9988345895057059\n",
      "> Mean value of P =  1.2548477739619104\n",
      "> Standard deviation of P   =  0.6554282444154661\n",
      "Biased-corrected estimators:\n",
      "> Mean value of PWK =  0.7620164815512667\n",
      "> Mean value of Pmas=  0.9899797872662838\n",
      "----------\n"
     ]
    }
   ],
   "source": [
    "nsim = 50000\n",
    "    \n",
    "# CASE 1. Intrinsic polarization is zero Q0=U0=0\n",
    "Q0    = 0.0\n",
    "U0    = 0.0\n",
    "P0    = np.sqrt(Q0**2 + U0**2)\n",
    "sigma = 1.0  # error in Q or U measuremnt.\n",
    "\n",
    "# Simulating Measurements\n",
    "n = nsim # number of measurements.    \n",
    "Q = Q0 + np.random.randn(n)*sigma\n",
    "U = U0 + np.random.randn(n)*sigma\n",
    "\n",
    "# Measured value of P (classical method, biased):\n",
    "P = np.sqrt(Q**2 + U**2)\n",
    "errP = sigma\n",
    "\n",
    "# Compute some statistics:\n",
    "print(\"CASE 1. Intrinsic P0 = \",P0)\n",
    "print(\"> Mean value of Q = \",np.mean(Q))\n",
    "print(\"> Standard deviation of Q   = \",np.std(Q))\n",
    "print(\"> Mean value of U = \",np.mean(U))\n",
    "print(\"> Standard deviation of U   = \",np.std(U))\n",
    "    \n",
    "print(\"> Mean value of P = \",np.mean(P))\n",
    "print(\"> Standard deviation of P   = \",np.std(P))\n",
    "\n",
    "print('Biased-corrected estimators:')\n",
    "PWK  = p_wk(P,sigma)\n",
    "print(\"> Mean value of PWK = \",np.mean(PWK))\n",
    "Pmas = p_mas(P,sigma)\n",
    "print(\"> Mean value of Pmas= \",np.mean(Pmas))\n",
    "print(\"----------\")"
   ]
  },
  {
   "cell_type": "markdown",
   "id": "e0ce9659",
   "metadata": {},
   "source": [
    "The resulting P is biased. The two considered estimators partially correct for that bias.\n",
    "The posterior (distribution of P values) is given by a Rice function:"
   ]
  },
  {
   "cell_type": "code",
   "execution_count": 40,
   "id": "32b89abf",
   "metadata": {},
   "outputs": [
    {
     "data": {
      "text/plain": [
       "(array([6.160e+02, 1.734e+03, 2.643e+03, 3.529e+03, 4.138e+03, 4.566e+03,\n",
       "        4.509e+03, 4.417e+03, 4.344e+03, 3.836e+03, 3.417e+03, 2.839e+03,\n",
       "        2.350e+03, 1.879e+03, 1.474e+03, 1.157e+03, 7.950e+02, 5.980e+02,\n",
       "        4.030e+02, 2.820e+02, 1.790e+02, 1.130e+02, 6.600e+01, 4.400e+01,\n",
       "        3.700e+01, 1.000e+01, 1.300e+01, 5.000e+00, 4.000e+00, 3.000e+00]),\n",
       " array([0.00551508, 0.15749476, 0.30947443, 0.46145411, 0.61343378,\n",
       "        0.76541346, 0.91739313, 1.06937281, 1.22135248, 1.37333216,\n",
       "        1.52531183, 1.6772915 , 1.82927118, 1.98125085, 2.13323053,\n",
       "        2.2852102 , 2.43718988, 2.58916955, 2.74114923, 2.8931289 ,\n",
       "        3.04510858, 3.19708825, 3.34906793, 3.5010476 , 3.65302728,\n",
       "        3.80500695, 3.95698663, 4.1089663 , 4.26094598, 4.41292565,\n",
       "        4.56490532]),\n",
       " <BarContainer object of 30 artists>)"
      ]
     },
     "execution_count": 40,
     "metadata": {},
     "output_type": "execute_result"
    },
    {
     "data": {
      "image/png": "[encoded data removed]",
      "text/plain": [
       "<Figure size 432x288 with 1 Axes>"
      ]
     },
     "metadata": {
      "needs_background": "light"
     },
     "output_type": "display_data"
    }
   ],
   "source": [
    "plt.hist(P,bins=30)"
   ]
  },
  {
   "cell_type": "markdown",
   "id": "9a9e011e",
   "metadata": {},
   "source": [
    "*SECOND example:* simulating a measurement in which the intrisic polarization non zero, but small compared to the typical error."
   ]
  },
  {
   "cell_type": "code",
   "execution_count": 41,
   "id": "78c9d36c",
   "metadata": {},
   "outputs": [
    {
     "name": "stdout",
     "output_type": "stream",
     "text": [
      "CASE 2. Intrinsic P0 =  1.0\n",
      "> Mean value of Q =  0.9951174381784114\n",
      "> Standard deviation of Q   =  0.9965972197095581\n",
      "> Mean value of U =  0.002065814500856137\n",
      "> Standard deviation of U   =  0.9978683240709671\n",
      "> Mean value of P =  1.5439085397674353\n",
      "> Standard deviation of P   =  0.7717231464110199\n",
      "Biased-corrected estimators:\n",
      "> Mean value of PWK =  1.1120556966576485\n",
      "> Mean value of Pmas=  1.2869015640597343\n",
      "----------\n"
     ]
    }
   ],
   "source": [
    "Q0    = 1.0\n",
    "U0    = 0.0\n",
    "P0    = np.sqrt(Q0**2 + U0**2)\n",
    "sigma = 1.0  # error in Q or U measuremnt.\n",
    "    \n",
    "# simulating Measurements\n",
    "n     = nsim  # number of measurements.    \n",
    "Q = Q0 + np.random.randn(n)*sigma\n",
    "U = U0 + np.random.randn(n)*sigma\n",
    "\n",
    "# Measured value of P (clasical method):\n",
    "P = np.sqrt(Q**2 + U**2)\n",
    "errP = sigma\n",
    "\n",
    "# Compute some statistics:\n",
    "print(\"CASE 2. Intrinsic P0 = \",P0)\n",
    "print(\"> Mean value of Q = \",np.mean(Q))\n",
    "print(\"> Standard deviation of Q   = \",np.std(Q))\n",
    "print(\"> Mean value of U = \",np.mean(U))\n",
    "print(\"> Standard deviation of U   = \",np.std(U))\n",
    "    \n",
    "print(\"> Mean value of P = \",np.mean(P))\n",
    "print(\"> Standard deviation of P   = \",np.std(P))\n",
    "\n",
    "print('Biased-corrected estimators:')\n",
    "PWK = p_wk(P,sigma)\n",
    "print(\"> Mean value of PWK = \",np.mean(PWK))\n",
    "Pmas = p_mas(P,sigma)\n",
    "print(\"> Mean value of Pmas= \",np.mean(Pmas))\n",
    "print(\"----------\")"
   ]
  },
  {
   "cell_type": "markdown",
   "id": "fdea8353",
   "metadata": {},
   "source": [
    "*THIRD example:* simulating a measurement in which the intrisic polarization non zero, with an amplitude around 3-4 sigma levels (low signal to noise)."
   ]
  },
  {
   "cell_type": "code",
   "execution_count": 42,
   "id": "6f5e1b99",
   "metadata": {},
   "outputs": [
    {
     "name": "stdout",
     "output_type": "stream",
     "text": [
      "CASE 3. Intrinsic P0 =  5.0\n",
      "> Mean value of Q =  3.0026400559118227\n",
      "> Standard deviation of Q   =  0.9976540948996119\n",
      "> Mean value of U =  3.997288794043503\n",
      "> Standard deviation of U   =  1.0030534911946145\n",
      "> Mean value of P =  5.100617538161933\n",
      "> Standard deviation of P   =  0.9895937232089164\n",
      "Biased-corrected estimators:\n",
      "> Mean value of PWK =  4.997110683907525\n",
      "> Mean value of Pmas=  4.998417444190714\n"
     ]
    }
   ],
   "source": [
    "# CASE 3. Realistic case\n",
    "Q0    = 3.0\n",
    "U0    = 4.0\n",
    "P0    = np.sqrt(Q0**2 + U0**2)\n",
    "sigma = 1.0  # error in Q or U measuremnt.\n",
    "    \n",
    "# Measurements\n",
    "n = nsim  # number of measurements.    \n",
    "Q = Q0 + np.random.randn(n)*sigma\n",
    "U = U0 + np.random.randn(n)*sigma\n",
    "    \n",
    "# Measured value of P (clasical method):\n",
    "P = np.sqrt(Q**2 + U**2)\n",
    "errP = sigma # quadratic.\n",
    "\n",
    "# Compute some statistics:\n",
    "print(\"CASE 3. Intrinsic P0 = \",P0)\n",
    "print(\"> Mean value of Q = \",np.mean(Q))\n",
    "print(\"> Standard deviation of Q   = \",np.std(Q))\n",
    "print(\"> Mean value of U = \",np.mean(U))\n",
    "print(\"> Standard deviation of U   = \",np.std(U))\n",
    "    \n",
    "print(\"> Mean value of P = \",np.mean(P))\n",
    "print(\"> Standard deviation of P   = \",np.std(P))\n",
    "\n",
    "print('Biased-corrected estimators:')\n",
    "PWK = p_wk(P,sigma)\n",
    "print(\"> Mean value of PWK = \",np.mean(PWK))\n",
    "Pmas = p_mas(P,sigma)\n",
    "print(\"> Mean value of Pmas= \",np.mean(Pmas))"
   ]
  },
  {
   "cell_type": "markdown",
   "id": "7442d9ca",
   "metadata": {},
   "source": [
    "In this case, the bias is well corrected."
   ]
  }
 ],
 "metadata": {
  "kernelspec": {
   "display_name": "base",
   "language": "python",
   "name": "python3"
  },
  "language_info": {
   "codemirror_mode": {
    "name": "ipython",
    "version": 3
   },
   "file_extension": ".py",
   "mimetype": "text/x-python",
   "name": "python",
   "nbconvert_exporter": "python",
   "pygments_lexer": "ipython3",
   "version": "3.6.13"
  }
 },
 "nbformat": 4,
 "nbformat_minor": 5
}
