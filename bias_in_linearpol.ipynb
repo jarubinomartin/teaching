{
 "cells": [
  {
   "cell_type": "markdown",
   "id": "d125695b",
   "metadata": {},
   "source": [
    "# Bias in the determination of linear polarization.\n",
    "\n",
    "**PURPOSE:** Illustrate the concept of bias and variance for quadratic estimators. Case of polarization intensity.\n",
    "\n",
    "**Notation:** variables with index 0 correspond to true values (P0).\n",
    "\n",
    "*@author: jalberto*"
   ]
  },
  {
   "cell_type": "code",
   "execution_count": 162,
   "id": "efe89cc7",
   "metadata": {},
   "outputs": [],
   "source": [
    "import numpy as np\n",
    "import matplotlib.pyplot as plt\n",
    "import sys"
   ]
  },
  {
   "cell_type": "code",
   "execution_count": 163,
   "id": "9250374e",
   "metadata": {},
   "outputs": [],
   "source": [
    "# WK estimator. Wardle & Kronberg (1974).\n",
    "def p_wk(P, sigma):\n",
    "    arg = P**2 - sigma**2\n",
    "    Pwk = np.zeros(len(P))\n",
    "    cut = arg>0\n",
    "    Pwk[cut] = np.sqrt(arg[cut])\n",
    "    #Pwk = np.where(arg>0, np.sqrt(arg), 0)\n",
    "    return Pwk\n",
    "\n",
    "# MAS estimator. Plaszczynski et al. (2014).\n",
    "def p_mas(P, sigma):\n",
    "    sigchi = sigma/(2*P) \n",
    "    Pmas   = P * ( 1 - 2*sigchi**2 * (1-np.exp(-P**2/sigma**2)))\n",
    "    return Pmas"
   ]
  },
  {
   "cell_type": "markdown",
   "id": "69e57321",
   "metadata": {},
   "source": [
    "*FIRST example:* simulating a measurement in which the intrisic polarization is zero."
   ]
  },
  {
   "cell_type": "code",
   "execution_count": 164,
   "id": "b9da2d04",
   "metadata": {},
   "outputs": [
    {
     "name": "stdout",
     "output_type": "stream",
     "text": [
      "CASE 1. Intrinsic P0 =  0.0\n",
      "> Mean value of Q =  0.001963842446052455\n",
      "> Standard deviation of Q   =  1.0013301605442062\n",
      "> Mean value of U =  -0.000994702030502235\n",
      "> Standard deviation of U   =  1.0001390620191701\n",
      "> Mean value of P =  1.2535348728630389\n",
      "> Standard deviation of P   =  0.6569592090971845\n",
      "Biased-corrected estimators:\n",
      "> Mean value of PWK =  0.7602057296231449\n",
      "> Mean value of Pmas=  0.9887871235187233\n",
      "----------\n"
     ]
    }
   ],
   "source": [
    "nsim = 100000\n",
    "    \n",
    "# CASE 1. Intrinsic polarization is zero Q0=U0=0\n",
    "Q0    = 0.0\n",
    "U0    = 0.0\n",
    "P0    = np.sqrt(Q0**2 + U0**2)\n",
    "sigma = 1.0  # error in Q or U measuremnt.\n",
    "\n",
    "# Simulating Measurements\n",
    "n = nsim # number of measurements.    \n",
    "Q = Q0 + np.random.randn(n)*sigma\n",
    "U = U0 + np.random.randn(n)*sigma\n",
    "\n",
    "# Measured value of P (classical method, biased):\n",
    "P = np.sqrt(Q**2 + U**2)\n",
    "errP = sigma\n",
    "\n",
    "# Compute some statistics:\n",
    "print(\"CASE 1. Intrinsic P0 = \",P0)\n",
    "print(\"> Mean value of Q = \",np.mean(Q))\n",
    "print(\"> Standard deviation of Q   = \",np.std(Q))\n",
    "print(\"> Mean value of U = \",np.mean(U))\n",
    "print(\"> Standard deviation of U   = \",np.std(U))\n",
    "    \n",
    "print(\"> Mean value of P = \",np.mean(P))\n",
    "print(\"> Standard deviation of P   = \",np.std(P))\n",
    "\n",
    "print('Biased-corrected estimators:')\n",
    "PWK  = p_wk(P,sigma)\n",
    "print(\"> Mean value of PWK = \",np.mean(PWK))\n",
    "Pmas = p_mas(P,sigma)\n",
    "print(\"> Mean value of Pmas= \",np.mean(Pmas))\n",
    "print(\"----------\")"
   ]
  },
  {
   "cell_type": "markdown",
   "id": "e0ce9659",
   "metadata": {},
   "source": [
    "The resulting P is biased. The two considered estimators partially correct for that bias.\n",
    "The posterior (distribution of P values) is given by a Rice function (Vaillancourt 2006, PASP, 118, 1340):"
   ]
  },
  {
   "cell_type": "code",
   "execution_count": 165,
   "id": "32b89abf",
   "metadata": {},
   "outputs": [
    {
     "data": {
      "text/plain": [
       "[<matplotlib.lines.Line2D at 0x7fc05a9a9710>]"
      ]
     },
     "execution_count": 165,
     "metadata": {},
     "output_type": "execute_result"
    },
    {
     "data": {
      "image/png": "[encoded data removed]",
      "text/plain": [
       "<Figure size 432x288 with 1 Axes>"
      ]
     },
     "metadata": {
      "needs_background": "light"
     },
     "output_type": "display_data"
    }
   ],
   "source": [
    "plt.hist(P,bins=50,density=True)\n",
    "plt.xlabel(r\"P\", fontsize=12)\n",
    "plt.title(r'Rice distribution for $P_0$=0')\n",
    "\n",
    "# Rice function for P0=0. Vaillancourt (2006), PASP, 118, 1340\n",
    "x = np.linspace(0, 5, 1000)\n",
    "yRice = x/sigma**2 * np.exp(-0.5 * x**2 / sigma**2)\n",
    "norma = np.trapz(yRice,x)\n",
    "plt.plot(x,yRice/norma) \n"
   ]
  },
  {
   "cell_type": "markdown",
   "id": "9a9e011e",
   "metadata": {},
   "source": [
    "*SECOND example:* simulating a measurement in which the intrisic polarization non zero, but small compared to the typical error."
   ]
  },
  {
   "cell_type": "code",
   "execution_count": 166,
   "id": "78c9d36c",
   "metadata": {},
   "outputs": [
    {
     "name": "stdout",
     "output_type": "stream",
     "text": [
      "CASE 2. Intrinsic P0 =  1.0\n",
      "> Mean value of Q =  0.9967707395314419\n",
      "> Standard deviation of Q   =  0.9994464093530966\n",
      "> Mean value of U =  0.0006518860732619386\n",
      "> Standard deviation of U   =  1.0029313894690777\n",
      "> Mean value of P =  1.5493661090845714\n",
      "> Standard deviation of P   =  0.7731633005470565\n",
      "Biased-corrected estimators:\n",
      "> Mean value of PWK =  1.1186597559710896\n",
      "> Mean value of Pmas=  1.29228837560278\n",
      "----------\n"
     ]
    }
   ],
   "source": [
    "Q0    = 1.0\n",
    "U0    = 0.0\n",
    "P0    = np.sqrt(Q0**2 + U0**2)\n",
    "sigma = 1.0  # error in Q or U measuremnt.\n",
    "    \n",
    "# simulating Measurements\n",
    "n     = nsim  # number of measurements.    \n",
    "Q = Q0 + np.random.randn(n)*sigma\n",
    "U = U0 + np.random.randn(n)*sigma\n",
    "\n",
    "# Measured value of P (clasical method):\n",
    "P = np.sqrt(Q**2 + U**2)\n",
    "errP = sigma\n",
    "\n",
    "# Compute some statistics:\n",
    "print(\"CASE 2. Intrinsic P0 = \",P0)\n",
    "print(\"> Mean value of Q = \",np.mean(Q))\n",
    "print(\"> Standard deviation of Q   = \",np.std(Q))\n",
    "print(\"> Mean value of U = \",np.mean(U))\n",
    "print(\"> Standard deviation of U   = \",np.std(U))\n",
    "    \n",
    "print(\"> Mean value of P = \",np.mean(P))\n",
    "print(\"> Standard deviation of P   = \",np.std(P))\n",
    "\n",
    "print('Biased-corrected estimators:')\n",
    "PWK = p_wk(P,sigma)\n",
    "print(\"> Mean value of PWK = \",np.mean(PWK))\n",
    "Pmas = p_mas(P,sigma)\n",
    "print(\"> Mean value of Pmas= \",np.mean(Pmas))\n",
    "print(\"----------\")"
   ]
  },
  {
   "cell_type": "markdown",
   "id": "fdea8353",
   "metadata": {},
   "source": [
    "*THIRD example:* simulating a measurement in which the intrisic polarization non zero, with an amplitude around 3-4 sigma levels (low signal to noise)."
   ]
  },
  {
   "cell_type": "code",
   "execution_count": 167,
   "id": "6f5e1b99",
   "metadata": {},
   "outputs": [
    {
     "name": "stdout",
     "output_type": "stream",
     "text": [
      "CASE 3. Intrinsic P0 =  5.0\n",
      "> Mean value of Q =  2.9988635294313335\n",
      "> Standard deviation of Q   =  0.9992070772811565\n",
      "> Mean value of U =  3.9990801900929993\n",
      "> Standard deviation of U   =  1.0019355577354714\n",
      "> Mean value of P =  5.099600232939366\n",
      "> Standard deviation of P   =  0.9910559743505041\n",
      "Biased-corrected estimators:\n",
      "> Mean value of PWK =  4.99605493872747\n",
      "> Mean value of Pmas=  4.997365365730075\n"
     ]
    }
   ],
   "source": [
    "# CASE 3. Realistic case\n",
    "Q0    = 3.0\n",
    "U0    = 4.0\n",
    "P0    = np.sqrt(Q0**2 + U0**2)\n",
    "sigma = 1.0  # error in Q or U measuremnt.\n",
    "    \n",
    "# Measurements\n",
    "n = nsim  # number of measurements.    \n",
    "Q = Q0 + np.random.randn(n)*sigma\n",
    "U = U0 + np.random.randn(n)*sigma\n",
    "    \n",
    "# Measured value of P (clasical method):\n",
    "P = np.sqrt(Q**2 + U**2)\n",
    "errP = sigma # quadratic.\n",
    "\n",
    "# Compute some statistics:\n",
    "print(\"CASE 3. Intrinsic P0 = \",P0)\n",
    "print(\"> Mean value of Q = \",np.mean(Q))\n",
    "print(\"> Standard deviation of Q   = \",np.std(Q))\n",
    "print(\"> Mean value of U = \",np.mean(U))\n",
    "print(\"> Standard deviation of U   = \",np.std(U))\n",
    "    \n",
    "print(\"> Mean value of P = \",np.mean(P))\n",
    "print(\"> Standard deviation of P   = \",np.std(P))\n",
    "\n",
    "print('Biased-corrected estimators:')\n",
    "PWK = p_wk(P,sigma)\n",
    "print(\"> Mean value of PWK = \",np.mean(PWK))\n",
    "Pmas = p_mas(P,sigma)\n",
    "print(\"> Mean value of Pmas= \",np.mean(Pmas))"
   ]
  },
  {
   "cell_type": "markdown",
   "id": "7442d9ca",
   "metadata": {},
   "source": [
    "In this case, the bias is well corrected."
   ]
  }
 ],
 "metadata": {
  "kernelspec": {
   "display_name": "base",
   "language": "python",
   "name": "python3"
  },
  "language_info": {
   "codemirror_mode": {
    "name": "ipython",
    "version": 3
   },
   "file_extension": ".py",
   "mimetype": "text/x-python",
   "name": "python",
   "nbconvert_exporter": "python",
   "pygments_lexer": "ipython3",
   "version": "3.6.13"
  }
 },
 "nbformat": 4,
 "nbformat_minor": 5
}
